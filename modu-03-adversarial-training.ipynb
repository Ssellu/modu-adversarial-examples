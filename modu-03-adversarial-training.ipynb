{
  "cells": [
    {
      "cell_type": "markdown",
      "metadata": {
        "id": "hU3M_VrggkQ3"
      },
      "source": [
        "# PGD 적대적 학습과 일반 학습\n",
        "fashion-MNIST 분류 문제를 학습할 CNN Custom 모델을 만들고 직접 적대적 학습을 해봅시다.  \n",
        "fashion-MNIST 데이터셋에 대해 자세한 내용은 Kaggle에서 확인하실 수 있습니다. (https://www.kaggle.com/datasets/zalando-research/fashionmnist)\n",
        "\n",
        "\n",
        "## 1. 필요한 라이브러리 import\n",
        "\n",
        "### 1-1. Tensorflow 및 numpy 설치"
      ]
    },
    {
      "cell_type": "code",
      "execution_count": 36,
      "metadata": {},
      "outputs": [
        {
          "name": "stdout",
          "output_type": "stream",
          "text": [
            "Requirement already satisfied: tensorflow in c:\\python3106\\lib\\site-packages (2.16.1)\n",
            "Requirement already satisfied: tensorflow-intel==2.16.1 in c:\\python3106\\lib\\site-packages (from tensorflow) (2.16.1)\n",
            "Requirement already satisfied: typing-extensions>=3.6.6 in c:\\python3106\\lib\\site-packages (from tensorflow-intel==2.16.1->tensorflow) (4.9.0)\n",
            "Requirement already satisfied: ml-dtypes~=0.3.1 in c:\\python3106\\lib\\site-packages (from tensorflow-intel==2.16.1->tensorflow) (0.3.2)\n",
            "Requirement already satisfied: termcolor>=1.1.0 in c:\\python3106\\lib\\site-packages (from tensorflow-intel==2.16.1->tensorflow) (2.4.0)\n",
            "Requirement already satisfied: google-pasta>=0.1.1 in c:\\python3106\\lib\\site-packages (from tensorflow-intel==2.16.1->tensorflow) (0.2.0)\n",
            "Requirement already satisfied: numpy<2.0.0,>=1.23.5 in c:\\python3106\\lib\\site-packages (from tensorflow-intel==2.16.1->tensorflow) (1.26.2)\n",
            "Requirement already satisfied: opt-einsum>=2.3.2 in c:\\python3106\\lib\\site-packages (from tensorflow-intel==2.16.1->tensorflow) (3.3.0)\n",
            "Requirement already satisfied: keras>=3.0.0 in c:\\python3106\\lib\\site-packages (from tensorflow-intel==2.16.1->tensorflow) (3.1.1)\n",
            "Requirement already satisfied: libclang>=13.0.0 in c:\\python3106\\lib\\site-packages (from tensorflow-intel==2.16.1->tensorflow) (18.1.1)\n",
            "Requirement already satisfied: tensorboard<2.17,>=2.16 in c:\\python3106\\lib\\site-packages (from tensorflow-intel==2.16.1->tensorflow) (2.16.2)\n",
            "Requirement already satisfied: wrapt>=1.11.0 in c:\\python3106\\lib\\site-packages (from tensorflow-intel==2.16.1->tensorflow) (1.16.0)\n",
            "Requirement already satisfied: packaging in c:\\python3106\\lib\\site-packages (from tensorflow-intel==2.16.1->tensorflow) (23.1)\n",
            "Requirement already satisfied: flatbuffers>=23.5.26 in c:\\python3106\\lib\\site-packages (from tensorflow-intel==2.16.1->tensorflow) (23.5.26)\n",
            "Requirement already satisfied: six>=1.12.0 in c:\\python3106\\lib\\site-packages (from tensorflow-intel==2.16.1->tensorflow) (1.16.0)\n",
            "Requirement already satisfied: absl-py>=1.0.0 in c:\\python3106\\lib\\site-packages (from tensorflow-intel==2.16.1->tensorflow) (2.1.0)\n",
            "Requirement already satisfied: astunparse>=1.6.0 in c:\\python3106\\lib\\site-packages (from tensorflow-intel==2.16.1->tensorflow) (1.6.3)\n",
            "Requirement already satisfied: gast!=0.5.0,!=0.5.1,!=0.5.2,>=0.2.1 in c:\\python3106\\lib\\site-packages (from tensorflow-intel==2.16.1->tensorflow) (0.5.4)\n",
            "Requirement already satisfied: protobuf!=4.21.0,!=4.21.1,!=4.21.2,!=4.21.3,!=4.21.4,!=4.21.5,<5.0.0dev,>=3.20.3 in c:\\python3106\\lib\\site-packages (from tensorflow-intel==2.16.1->tensorflow) (4.25.3)\n",
            "Requirement already satisfied: setuptools in c:\\python3106\\lib\\site-packages (from tensorflow-intel==2.16.1->tensorflow) (63.2.0)\n",
            "Requirement already satisfied: grpcio<2.0,>=1.24.3 in c:\\python3106\\lib\\site-packages (from tensorflow-intel==2.16.1->tensorflow) (1.62.1)\n",
            "Requirement already satisfied: tensorflow-io-gcs-filesystem>=0.23.1 in c:\\python3106\\lib\\site-packages (from tensorflow-intel==2.16.1->tensorflow) (0.31.0)\n",
            "Requirement already satisfied: requests<3,>=2.21.0 in c:\\python3106\\lib\\site-packages (from tensorflow-intel==2.16.1->tensorflow) (2.30.0)\n",
            "Requirement already satisfied: h5py>=3.10.0 in c:\\python3106\\lib\\site-packages (from tensorflow-intel==2.16.1->tensorflow) (3.10.0)\n",
            "Requirement already satisfied: wheel<1.0,>=0.23.0 in c:\\python3106\\lib\\site-packages (from astunparse>=1.6.0->tensorflow-intel==2.16.1->tensorflow) (0.43.0)\n",
            "Requirement already satisfied: optree in c:\\python3106\\lib\\site-packages (from keras>=3.0.0->tensorflow-intel==2.16.1->tensorflow) (0.10.0)\n",
            "Requirement already satisfied: rich in c:\\python3106\\lib\\site-packages (from keras>=3.0.0->tensorflow-intel==2.16.1->tensorflow) (13.7.1)\n",
            "Requirement already satisfied: namex in c:\\python3106\\lib\\site-packages (from keras>=3.0.0->tensorflow-intel==2.16.1->tensorflow) (0.0.7)\n",
            "Requirement already satisfied: charset-normalizer<4,>=2 in c:\\python3106\\lib\\site-packages (from requests<3,>=2.21.0->tensorflow-intel==2.16.1->tensorflow) (3.1.0)\n",
            "Requirement already satisfied: urllib3<3,>=1.21.1 in c:\\python3106\\lib\\site-packages (from requests<3,>=2.21.0->tensorflow-intel==2.16.1->tensorflow) (2.0.2)\n",
            "Requirement already satisfied: idna<4,>=2.5 in c:\\python3106\\lib\\site-packages (from requests<3,>=2.21.0->tensorflow-intel==2.16.1->tensorflow) (3.4)\n",
            "Requirement already satisfied: certifi>=2017.4.17 in c:\\python3106\\lib\\site-packages (from requests<3,>=2.21.0->tensorflow-intel==2.16.1->tensorflow) (2023.5.7)\n",
            "Requirement already satisfied: markdown>=2.6.8 in c:\\python3106\\lib\\site-packages (from tensorboard<2.17,>=2.16->tensorflow-intel==2.16.1->tensorflow) (3.6)\n",
            "Requirement already satisfied: tensorboard-data-server<0.8.0,>=0.7.0 in c:\\python3106\\lib\\site-packages (from tensorboard<2.17,>=2.16->tensorflow-intel==2.16.1->tensorflow) (0.7.2)\n",
            "Requirement already satisfied: werkzeug>=1.0.1 in c:\\python3106\\lib\\site-packages (from tensorboard<2.17,>=2.16->tensorflow-intel==2.16.1->tensorflow) (3.0.1)\n",
            "Requirement already satisfied: MarkupSafe>=2.1.1 in c:\\python3106\\lib\\site-packages (from werkzeug>=1.0.1->tensorboard<2.17,>=2.16->tensorflow-intel==2.16.1->tensorflow) (2.1.3)\n",
            "Requirement already satisfied: pygments<3.0.0,>=2.13.0 in c:\\users\\pc\\appdata\\roaming\\python\\python310\\site-packages (from rich->keras>=3.0.0->tensorflow-intel==2.16.1->tensorflow) (2.17.2)\n",
            "Requirement already satisfied: markdown-it-py>=2.2.0 in c:\\python3106\\lib\\site-packages (from rich->keras>=3.0.0->tensorflow-intel==2.16.1->tensorflow) (3.0.0)\n",
            "Requirement already satisfied: mdurl~=0.1 in c:\\python3106\\lib\\site-packages (from markdown-it-py>=2.2.0->rich->keras>=3.0.0->tensorflow-intel==2.16.1->tensorflow) (0.1.2)\n"
          ]
        },
        {
          "name": "stderr",
          "output_type": "stream",
          "text": [
            "\n",
            "[notice] A new release of pip available: 22.2.1 -> 24.0\n",
            "[notice] To update, run: python.exe -m pip install --upgrade pip\n"
          ]
        },
        {
          "name": "stdout",
          "output_type": "stream",
          "text": [
            "Requirement already satisfied: numpy in c:\\python3106\\lib\\site-packages (1.26.2)\n"
          ]
        },
        {
          "name": "stderr",
          "output_type": "stream",
          "text": [
            "\n",
            "[notice] A new release of pip available: 22.2.1 -> 24.0\n",
            "[notice] To update, run: python.exe -m pip install --upgrade pip\n"
          ]
        }
      ],
      "source": [
        "! pip install tensorflow\n",
        "! pip install numpy"
      ]
    },
    {
      "cell_type": "markdown",
      "metadata": {},
      "source": [
        "### 1-2. 필요한 라이브러리 Import "
      ]
    },
    {
      "cell_type": "code",
      "execution_count": 37,
      "metadata": {
        "id": "HeiRXdI_giiW"
      },
      "outputs": [],
      "source": [
        "import tensorflow as tf\n",
        "from tensorflow.keras import Sequential\n",
        "from tensorflow.keras.layers import Conv2D, MaxPooling2D, Flatten, Dense, Dropout\n",
        "import numpy as np\n",
        "import matplotlib.pyplot as plt"
      ]
    },
    {
      "cell_type": "markdown",
      "metadata": {
        "id": "xNfGr_hcgjZ7"
      },
      "source": [
        "## 2. Fashion-MNIST 데이터셋 로드 및 전처리 함수"
      ]
    },
    {
      "cell_type": "code",
      "execution_count": 39,
      "metadata": {
        "id": "sSw-7W3sg1Cq"
      },
      "outputs": [],
      "source": [
        "def load_preprocess_fashion_mnist():\n",
        "    (train_images, train_labels), (test_images, test_labels) = tf.keras.datasets.fashion_mnist.load_data()\n",
        "    train_images = train_images / 255.0\n",
        "    test_images = test_images / 255.0\n",
        "    train_images = np.expand_dims(train_images, -1)\n",
        "    test_images = np.expand_dims(test_images, -1)\n",
        "    return train_images, train_labels, test_images, test_labels"
      ]
    },
    {
      "cell_type": "markdown",
      "metadata": {
        "id": "5ZEBMNqzg2wj"
      },
      "source": [
        "## 3. 간단한 CNN 모델 정의"
      ]
    },
    {
      "cell_type": "code",
      "execution_count": 40,
      "metadata": {
        "id": "ZgRSIhU4g7rV"
      },
      "outputs": [],
      "source": [
        "def create_simple_cnn():\n",
        "    model = Sequential([\n",
        "        Conv2D(32, kernel_size=(3, 3), activation='relu', input_shape=(28, 28, 1)),\n",
        "        MaxPooling2D(pool_size=(2, 2)),\n",
        "        Conv2D(64, kernel_size=(3, 3), activation='relu'),\n",
        "        MaxPooling2D(pool_size=(2, 2)),\n",
        "        Flatten(),\n",
        "        Dense(128, activation='relu'),\n",
        "        Dropout(0.5),\n",
        "        Dense(10, activation='softmax')\n",
        "    ])\n",
        "    return model"
      ]
    },
    {
      "cell_type": "markdown",
      "metadata": {
        "id": "mG2_8rgRg8oI"
      },
      "source": [
        "## 4. 모델 학습\n",
        "### 4-1. 적대적 학습 함수 정의"
      ]
    },
    {
      "cell_type": "code",
      "execution_count": 41,
      "metadata": {},
      "outputs": [],
      "source": [
        "def create_adversarial_pattern(input_image, input_label, model, epsilon=0.01, num_steps=10, step_size=0.01):\n",
        "    adv_image = tf.identity(input_image)\n",
        "    for i in range(num_steps):\n",
        "        with tf.GradientTape() as tape:\n",
        "            tape.watch(adv_image)\n",
        "            prediction = model(adv_image)\n",
        "            loss = tf.keras.losses.sparse_categorical_crossentropy(input_label, prediction)\n",
        "        # Get the gradients of the loss w.r.t to the input image.\n",
        "        gradient = tape.gradient(loss, adv_image)\n",
        "        # Get the sign of the gradients to create the perturbation\n",
        "        signed_grad = tf.sign(gradient)\n",
        "        adv_image = adv_image + step_size * signed_grad\n",
        "        adv_image = tf.clip_by_value(adv_image, input_image - epsilon, input_image + epsilon)\n",
        "    return adv_image"
      ]
    },
    {
      "cell_type": "markdown",
      "metadata": {},
      "source": [
        "### 4-2. 모델 학습 실행 함수"
      ]
    },
    {
      "cell_type": "code",
      "execution_count": 42,
      "metadata": {
        "id": "PG3luwZpg-5X"
      },
      "outputs": [],
      "source": [
        "def train_model(model, train_images, train_labels, epochs=10, adversarial_training=False, epsilon=0.01, num_steps=10, step_size=0.01):\n",
        "    model.compile(optimizer='adam',\n",
        "                  loss='sparse_categorical_crossentropy',\n",
        "                  metrics=['accuracy'])\n",
        "    \n",
        "    if adversarial_training:\n",
        "        print(\"Adversarial training\")\n",
        "        train_dataset = tf.data.Dataset.from_tensor_slices((train_images, train_labels))\n",
        "        train_dataset = train_dataset.shuffle(buffer_size=10000).batch(32)\n",
        "\n",
        "\n",
        "        for epoch in range(epochs):\n",
        "            print('Epoch:', epoch+1)\n",
        "            # 적대적 학습\n",
        "            \n",
        "            for images, labels in train_dataset:\n",
        "                adv_images = create_adversarial_pattern(images, labels, model, epsilon=epsilon, num_steps=num_steps, step_size=step_size)\n",
        "                model.train_on_batch(adv_images, labels)\n",
        "    else:\n",
        "        print(\"Natural training\")\n",
        "        model.fit(train_images, train_labels, epochs=epochs)\n"
      ]
    },
    {
      "cell_type": "markdown",
      "metadata": {
        "id": "eHLqTKUohFOp"
      },
      "source": [
        "## 5. 학습 실행 및 저장"
      ]
    },
    {
      "cell_type": "code",
      "execution_count": 43,
      "metadata": {
        "colab": {
          "base_uri": "https://localhost:8080/"
        },
        "id": "g0jK-hvwmVmG",
        "outputId": "ab3a69bc-45ae-40d7-b381-8241d2654caa"
      },
      "outputs": [],
      "source": [
        "# 모델 저장 함수\n",
        "def save_model(model, path):\n",
        "    model.save(path)\n",
        "\n",
        "\n",
        "train_images, train_labels, test_images, test_labels = load_preprocess_fashion_mnist()\n",
        "\n",
        "# 모델1. 자연 학습\n",
        "model_natural = create_simple_cnn()\n",
        "train_model(model_natural, train_images, train_labels, epochs=10)\n",
        "save_model(model_natural, 'model_natural.h5')\n",
        "\n",
        "# 모델2. 적대적 학습\n",
        "model_adversarial = create_simple_cnn()\n",
        "\n",
        "num_steps = 10\n",
        "step_size = 0.01\n",
        "train_model(model_adversarial, train_images, train_labels, epochs=10, adversarial_training=True, epsilon=0.01, num_steps=num_steps, step_size=step_size)\n",
        "save_model(model_adversarial, f'model_adversarial_iter{num_steps}.h5')"
      ]
    }
  ],
  "metadata": {
    "accelerator": "GPU",
    "colab": {
      "gpuType": "T4",
      "provenance": []
    },
    "kernelspec": {
      "display_name": "Python 3",
      "name": "python3"
    },
    "language_info": {
      "codemirror_mode": {
        "name": "ipython",
        "version": 3
      },
      "file_extension": ".py",
      "mimetype": "text/x-python",
      "name": "python",
      "nbconvert_exporter": "python",
      "pygments_lexer": "ipython3",
      "version": "undefined.undefined.undefined"
    }
  },
  "nbformat": 4,
  "nbformat_minor": 0
}
